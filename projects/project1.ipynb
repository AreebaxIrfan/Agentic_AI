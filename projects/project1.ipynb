{
  "nbformat": 4,
  "nbformat_minor": 0,
  "metadata": {
    "colab": {
      "provenance": [],
      "authorship_tag": "ABX9TyOu0um3WInnz5uk0lHGO+v9",
      "include_colab_link": true
    },
    "kernelspec": {
      "name": "python3",
      "display_name": "Python 3"
    },
    "language_info": {
      "name": "python"
    }
  },
  "cells": [
    {
      "cell_type": "markdown",
      "metadata": {
        "id": "view-in-github",
        "colab_type": "text"
      },
      "source": [
        "<a href=\"https://colab.research.google.com/github/Areeba-irfan-Github-account/PROJECTS/blob/main/project1.ipynb\" target=\"_parent\"><img src=\"https://colab.research.google.com/assets/colab-badge.svg\" alt=\"Open In Colab\"/></a>"
      ]
    },
    {
      "cell_type": "code",
      "source": [
        "# Welcome message\n",
        "print(\"Welcome to the Mad Libs game!\")\n",
        "\n",
        "# Collected the user inputs\n",
        "noun1 = input(\"Enter a profession name (developer , programmer , engineer): \")\n",
        "time = input(\"Enter a time (day or night): \")\n",
        "adjective1 = input(\"Enter an adjective (good or brillient): \")\n",
        "\n",
        "# Single story\n",
        "story = f\"\"\"\n",
        "Once upon a time,\n",
        "there was a {adjective1} {noun1} who loved to debug code late at {time}.\n",
        "\"\"\"\n",
        "\n",
        "# Print the completed story\n",
        "print(\"\\nHere is your Mad Libs story:\")\n",
        "print(story)\n"
      ],
      "metadata": {
        "colab": {
          "base_uri": "https://localhost:8080/"
        },
        "id": "LfH0JngN9JrB",
        "outputId": "02885362-d813-479a-f074-e92e54877a85"
      },
      "execution_count": null,
      "outputs": [
        {
          "output_type": "stream",
          "name": "stdout",
          "text": [
            "Welcome to the Mad Libs game!\n",
            "Enter a profession name (developer , programmer , engineer): developer\n",
            "Enter a time (day or night): night\n",
            "Enter an adjective (good or brillient): brillient\n",
            "\n",
            "Here is your Mad Libs story:\n",
            "\n",
            "Once upon a time, \n",
            "there was a brillient developer who loved to debug code late at night. \n",
            "\n"
          ]
        }
      ]
    }
  ]
}