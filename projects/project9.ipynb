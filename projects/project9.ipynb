{
  "nbformat": 4,
  "nbformat_minor": 0,
  "metadata": {
    "colab": {
      "provenance": [],
      "authorship_tag": "ABX9TyOYaO53+gGm5uXWP2E6EFW7",
      "include_colab_link": true
    },
    "kernelspec": {
      "name": "python3",
      "display_name": "Python 3"
    },
    "language_info": {
      "name": "python"
    }
  },
  "cells": [
    {
      "cell_type": "markdown",
      "metadata": {
        "id": "view-in-github",
        "colab_type": "text"
      },
      "source": [
        "<a href=\"https://colab.research.google.com/github/Areeba-irfan-Github-account/PROJECTS/blob/main/project9.ipynb\" target=\"_parent\"><img src=\"https://colab.research.google.com/assets/colab-badge.svg\" alt=\"Open In Colab\"/></a>"
      ]
    },
    {
      "cell_type": "code",
      "execution_count": null,
      "metadata": {
        "collapsed": true,
        "id": "XMW67Nibf4ZV"
      },
      "outputs": [],
      "source": [
        "!pip install streamlit"
      ]
    },
    {
      "cell_type": "code",
      "source": [
        "!pip install pyngrok\n"
      ],
      "metadata": {
        "id": "m1Dx_UzJgKTq",
        "colab": {
          "base_uri": "https://localhost:8080/"
        },
        "outputId": "89568ca4-7ec5-4061-bfc0-d1d4bfc79a64"
      },
      "execution_count": 14,
      "outputs": [
        {
          "output_type": "stream",
          "name": "stdout",
          "text": [
            "Requirement already satisfied: pyngrok in /usr/local/lib/python3.11/dist-packages (7.2.3)\n",
            "Requirement already satisfied: PyYAML>=5.1 in /usr/local/lib/python3.11/dist-packages (from pyngrok) (6.0.2)\n"
          ]
        }
      ]
    },
    {
      "cell_type": "code",
      "source": [
        "\n",
        "from google.colab import userdata\n",
        "pyngrok_token = userdata.get('pyngrok_authtoken')"
      ],
      "metadata": {
        "id": "6bV1_wlPgOa2"
      },
      "execution_count": 16,
      "outputs": []
    },
    {
      "cell_type": "code",
      "source": [
        "\n",
        "!ngrok authtoken 2tg2MKoPsana53qs4ZdPyoxWtic_5RQ5p64v9QyTnfpp2E6Vw"
      ],
      "metadata": {
        "id": "LI-qgmu-gbZ2",
        "colab": {
          "base_uri": "https://localhost:8080/"
        },
        "outputId": "07f9f172-519e-428c-bb0d-18aced4e6f84"
      },
      "execution_count": 17,
      "outputs": [
        {
          "output_type": "stream",
          "name": "stdout",
          "text": [
            "Authtoken saved to configuration file: /root/.config/ngrok/ngrok.yml\n"
          ]
        }
      ]
    },
    {
      "cell_type": "code",
      "source": [
        "# 7) Now let's run our app.py\n",
        "from pyngrok import ngrok\n",
        "\n",
        "# 8) Run Streamlit in the background\n",
        "!streamlit run app.py &>/dev/null &\n",
        "\n",
        "\n",
        "public_url = ngrok.connect(addr=8501)\n",
        "public_url"
      ],
      "metadata": {
        "colab": {
          "base_uri": "https://localhost:8080/"
        },
        "id": "gRv6oxglgguA",
        "outputId": "ac160310-1a8a-4a3d-ce02-2d030319171e"
      },
      "execution_count": 20,
      "outputs": [
        {
          "output_type": "execute_result",
          "data": {
            "text/plain": [
              "<NgrokTunnel: \"https://d518-34-125-177-86.ngrok-free.app\" -> \"http://localhost:8501\">"
            ]
          },
          "metadata": {},
          "execution_count": 20
        }
      ]
    }
  ]
}