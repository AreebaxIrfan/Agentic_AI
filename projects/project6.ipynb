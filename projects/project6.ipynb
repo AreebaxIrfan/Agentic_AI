{
  "nbformat": 4,
  "nbformat_minor": 0,
  "metadata": {
    "colab": {
      "provenance": [],
      "authorship_tag": "ABX9TyNMdwDiswB951PVgrFrICi4",
      "include_colab_link": true
    },
    "kernelspec": {
      "name": "python3",
      "display_name": "Python 3"
    },
    "language_info": {
      "name": "python"
    }
  },
  "cells": [
    {
      "cell_type": "markdown",
      "metadata": {
        "id": "view-in-github",
        "colab_type": "text"
      },
      "source": [
        "<a href=\"https://colab.research.google.com/github/Areeba-irfan-Github-account/PROJECTS/blob/main/project6.ipynb\" target=\"_parent\"><img src=\"https://colab.research.google.com/assets/colab-badge.svg\" alt=\"Open In Colab\"/></a>"
      ]
    },
    {
      "cell_type": "code",
      "execution_count": 2,
      "metadata": {
        "colab": {
          "base_uri": "https://localhost:8080/"
        },
        "id": "OKAm_h1Lwar2",
        "outputId": "11bbd71c-0465-4b51-b03f-81d1c9956b62"
      },
      "outputs": [
        {
          "output_type": "stream",
          "name": "stdout",
          "text": [
            "Generated Password: q608[U,3qt!J\n"
          ]
        }
      ],
      "source": [
        "import random\n",
        "import string\n",
        "\n",
        "def generate_password(length=12):\n",
        "    if length < 4:\n",
        "        raise ValueError(\"Password length must be at least 4 characters for security.\")\n",
        "\n",
        "    # Character pools\n",
        "    uppercase_letters = string.ascii_uppercase  # A-Z\n",
        "    lowercase_letters = string.ascii_lowercase  # a-z\n",
        "    digits = string.digits                     # 0-9\n",
        "    special_characters = string.punctuation    # !@#$%^&*()_+ etc.\n",
        "\n",
        "    # Ensure at least one character from each category\n",
        "    password = [\n",
        "        random.choice(uppercase_letters),\n",
        "        random.choice(lowercase_letters),\n",
        "        random.choice(digits),\n",
        "        random.choice(special_characters)\n",
        "    ]\n",
        "\n",
        "    # Fill the rest of the password length with random characters from all pools\n",
        "    all_characters = uppercase_letters + lowercase_letters + digits + special_characters\n",
        "    password += random.choices(all_characters, k=length - 4)\n",
        "\n",
        "    # Shuffle the password list to ensure randomness\n",
        "    random.shuffle(password)\n",
        "\n",
        "    # Convert the list to a string\n",
        "    return ''.join(password)\n",
        "\n",
        "# Example Usage\n",
        "password = generate_password(12)\n",
        "print(\"Generated Password:\", password)"
      ]
    }
  ]
}