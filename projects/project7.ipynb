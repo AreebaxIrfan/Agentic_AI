{
  "nbformat": 4,
  "nbformat_minor": 0,
  "metadata": {
    "colab": {
      "provenance": [],
      "authorship_tag": "ABX9TyPFF+tgM2GOBiwouLUOXNPU",
      "include_colab_link": true
    },
    "kernelspec": {
      "name": "python3",
      "display_name": "Python 3"
    },
    "language_info": {
      "name": "python"
    }
  },
  "cells": [
    {
      "cell_type": "markdown",
      "metadata": {
        "id": "view-in-github",
        "colab_type": "text"
      },
      "source": [
        "<a href=\"https://colab.research.google.com/github/Areeba-irfan-Github-account/PROJECTS/blob/main/project7.ipynb\" target=\"_parent\"><img src=\"https://colab.research.google.com/assets/colab-badge.svg\" alt=\"Open In Colab\"/></a>"
      ]
    },
    {
      "cell_type": "code",
      "source": [
        "\n",
        "# project no :6\n",
        "#countdowm timer\n",
        "import time\n",
        "def countdown(t):\n",
        "    while t > 0:\n",
        "        print(t)\n",
        "        t -= 1\n",
        "        time.sleep(1)\n",
        "    print('time is up')\n",
        "\n",
        "print(\"how many seconds to count down? Enter an integer\")\n",
        "second = input()\n",
        "while not second.isdigit():\n",
        "    print(\"please enter an integer\")\n",
        "    second = input()\n",
        "second = int(second)\n",
        "countdown(second)"
      ],
      "metadata": {
        "colab": {
          "base_uri": "https://localhost:8080/"
        },
        "id": "qofRgqGxxjSD",
        "outputId": "1693bd6a-62df-45c3-b0f5-1a7c89920352"
      },
      "execution_count": 1,
      "outputs": [
        {
          "output_type": "stream",
          "name": "stdout",
          "text": [
            "how many seconds to count down?enter an integer\n",
            "3\n",
            "3\n",
            "2\n",
            "1\n",
            "time is up\n"
          ]
        }
      ]
    }
  ]
}